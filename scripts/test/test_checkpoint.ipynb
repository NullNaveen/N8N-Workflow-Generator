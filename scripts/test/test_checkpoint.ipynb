{
 "cells": [
  {
   "cell_type": "markdown",
   "id": "d772d277",
   "metadata": {},
   "source": [
    "# Test Checkpoint-250 Model\n",
    "\n",
    "This notebook tests your checkpoint-250 model from Colab.\n",
    "\n",
    "**Setup:**\n",
    "1. Download `checkpoint-250` folder from Colab (`/content/n8n-workflow-generator/checkpoint-250/`)\n",
    "2. Place it in `models/checkpoint-250/` in this project\n",
    "3. Run all cells below to test the model"
   ]
  },
  {
   "cell_type": "code",
   "execution_count": null,
   "id": "33726b86",
   "metadata": {},
   "outputs": [],
   "source": [
    "# Check GPU availability\n",
    "import torch\n",
    "print(f\"CUDA available: {torch.cuda.is_available()}\")\n",
    "if torch.cuda.is_available():\n",
    "    print(f\"GPU: {torch.cuda.get_device_name(0)}\")\n",
    "else:\n",
    "    print(\"Using CPU (will be slower)\")"
   ]
  },
  {
   "cell_type": "code",
   "execution_count": null,
   "id": "cde9339c",
   "metadata": {},
   "outputs": [],
   "source": [
    "# Install required packages if needed\n",
    "!pip install -q transformers peft torch bitsandbytes accelerate"
   ]
  },
  {
   "cell_type": "code",
   "execution_count": null,
   "id": "5b7fd0f3",
   "metadata": {},
   "outputs": [],
   "source": [
    "# Load the base model and checkpoint\n",
    "import torch\n",
    "from transformers import AutoTokenizer, AutoModelForCausalLM, BitsAndBytesConfig\n",
    "from peft import PeftModel\n",
    "import os\n",
    "\n",
    "# Paths\n",
    "base_model_name = \"mistralai/Mistral-7B-Instruct-v0.2\"\n",
    "checkpoint_path = r\"C:\\Users\\Nike\\Documents\\Programming\\Projects\\N8N\\models\\checkpoint-250\"\n",
    "\n",
    "# Check if checkpoint exists\n",
    "if not os.path.exists(checkpoint_path):\n",
    "    print(f\"❌ Checkpoint not found at: {checkpoint_path}\")\n",
    "    print(\"\\n📥 Please download checkpoint-250 from Colab and place it here.\")\n",
    "    raise FileNotFoundError(f\"Checkpoint not found: {checkpoint_path}\")\n",
    "\n",
    "print(f\"✓ Found checkpoint at: {checkpoint_path}\")\n",
    "print(\"\\nLoading base model...\")\n",
    "\n",
    "# 4-bit quantization config (same as training)\n",
    "bnb_config = BitsAndBytesConfig(\n",
    "    load_in_4bit=True,\n",
    "    bnb_4bit_quant_type=\"nf4\",\n",
    "    bnb_4bit_compute_dtype=torch.bfloat16,\n",
    "    bnb_4bit_use_double_quant=True,\n",
    ")\n",
    "\n",
    "# Load tokenizer\n",
    "tokenizer = AutoTokenizer.from_pretrained(base_model_name)\n",
    "tokenizer.pad_token = tokenizer.eos_token\n",
    "tokenizer.padding_side = \"right\"\n",
    "\n",
    "# Load base model\n",
    "base_model = AutoModelForCausalLM.from_pretrained(\n",
    "    base_model_name,\n",
    "    quantization_config=bnb_config,\n",
    "    device_map=\"auto\",\n",
    "    trust_remote_code=True,\n",
    ")\n",
    "\n",
    "print(\"Loading LoRA adapters from checkpoint-250...\")\n",
    "# Load LoRA adapters from checkpoint\n",
    "model = PeftModel.from_pretrained(base_model, checkpoint_path)\n",
    "\n",
    "print(\"✅ Model loaded successfully!\")\n",
    "print(f\"Model size: {model.get_memory_footprint() / 1e9:.2f} GB\")"
   ]
  },
  {
   "cell_type": "code",
   "execution_count": null,
   "id": "de90e622",
   "metadata": {},
   "outputs": [],
   "source": [
    "# Test function\n",
    "def generate_workflow(prompt, max_tokens=1024, temperature=0.7):\n",
    "    \"\"\"Generate a workflow from a prompt\"\"\"\n",
    "    full_prompt = f\"\"\"<|system|>\n",
    "You are an n8n workflow generator. Convert natural language descriptions into valid n8n workflow JSON.\n",
    "<|user|>\n",
    "{prompt}\n",
    "<|assistant|>\n",
    "\"\"\"\n",
    "    \n",
    "    inputs = tokenizer(full_prompt, return_tensors=\"pt\").to(model.device)\n",
    "    \n",
    "    print(f\"🔄 Generating workflow for: '{prompt}'\")\n",
    "    print(\"⏳ This may take 30-60 seconds...\\n\")\n",
    "    \n",
    "    outputs = model.generate(\n",
    "        **inputs,\n",
    "        max_new_tokens=max_tokens,\n",
    "        temperature=temperature,\n",
    "        do_sample=True,\n",
    "        top_p=0.95,\n",
    "        repetition_penalty=1.1,\n",
    "    )\n",
    "    \n",
    "    generated_text = tokenizer.decode(outputs[0], skip_special_tokens=True)\n",
    "    workflow = generated_text.split(\"<|assistant|>\")[-1].strip()\n",
    "    \n",
    "    return workflow\n",
    "\n",
    "print(\"✓ Test function ready!\")"
   ]
  },
  {
   "cell_type": "markdown",
   "id": "222d858a",
   "metadata": {},
   "source": [
    "## Test 1: Simple Email Workflow"
   ]
  },
  {
   "cell_type": "code",
   "execution_count": null,
   "id": "086ef632",
   "metadata": {},
   "outputs": [],
   "source": [
    "workflow = generate_workflow(\"Create a workflow that sends an email notification\")\n",
    "print(\"=\"*80)\n",
    "print(\"GENERATED WORKFLOW:\")\n",
    "print(\"=\"*80)\n",
    "print(workflow)\n",
    "print(\"=\"*80)"
   ]
  },
  {
   "cell_type": "markdown",
   "id": "bc3b11e5",
   "metadata": {},
   "source": [
    "## Test 2: HTTP Request Workflow"
   ]
  },
  {
   "cell_type": "code",
   "execution_count": null,
   "id": "0be16f56",
   "metadata": {},
   "outputs": [],
   "source": [
    "workflow = generate_workflow(\"Create a workflow that makes an HTTP request and processes the response\")\n",
    "print(\"=\"*80)\n",
    "print(\"GENERATED WORKFLOW:\")\n",
    "print(\"=\"*80)\n",
    "print(workflow)\n",
    "print(\"=\"*80)"
   ]
  },
  {
   "cell_type": "markdown",
   "id": "e0e25aac",
   "metadata": {},
   "source": [
    "## Test 3: Slack Integration"
   ]
  },
  {
   "cell_type": "code",
   "execution_count": null,
   "id": "100f42db",
   "metadata": {},
   "outputs": [],
   "source": [
    "workflow = generate_workflow(\"Create a workflow that posts a message to Slack\")\n",
    "print(\"=\"*80)\n",
    "print(\"GENERATED WORKFLOW:\")\n",
    "print(\"=\"*80)\n",
    "print(workflow)\n",
    "print(\"=\"*80)"
   ]
  },
  {
   "cell_type": "markdown",
   "id": "17910fff",
   "metadata": {},
   "source": [
    "## Test 4: Complex Multi-Step Workflow"
   ]
  },
  {
   "cell_type": "code",
   "execution_count": null,
   "id": "e6ed02b5",
   "metadata": {},
   "outputs": [],
   "source": [
    "workflow = generate_workflow(\"Create a workflow that fetches data from an API, filters it, and saves to a database\")\n",
    "print(\"=\"*80)\n",
    "print(\"GENERATED WORKFLOW:\")\n",
    "print(\"=\"*80)\n",
    "print(workflow)\n",
    "print(\"=\"*80)"
   ]
  },
  {
   "cell_type": "markdown",
   "id": "1cec7f7b",
   "metadata": {},
   "source": [
    "## Test 5: Custom Prompt (Edit and Run)"
   ]
  },
  {
   "cell_type": "code",
   "execution_count": null,
   "id": "e2153c2f",
   "metadata": {},
   "outputs": [],
   "source": [
    "# Edit the prompt below and run to test your own ideas\n",
    "custom_prompt = \"Create a workflow that monitors a folder for new files\"\n",
    "\n",
    "workflow = generate_workflow(custom_prompt)\n",
    "print(\"=\"*80)\n",
    "print(\"GENERATED WORKFLOW:\")\n",
    "print(\"=\"*80)\n",
    "print(workflow)\n",
    "print(\"=\"*80)"
   ]
  },
  {
   "cell_type": "markdown",
   "id": "ac4e2fb8",
   "metadata": {},
   "source": [
    "## Validate JSON Output"
   ]
  },
  {
   "cell_type": "code",
   "execution_count": null,
   "id": "9972ac38",
   "metadata": {},
   "outputs": [],
   "source": [
    "import json\n",
    "\n",
    "def validate_workflow_json(workflow_text):\n",
    "    \"\"\"Try to parse the workflow as JSON\"\"\"\n",
    "    try:\n",
    "        # Extract JSON from the text (might have extra text)\n",
    "        start = workflow_text.find('{')\n",
    "        end = workflow_text.rfind('}') + 1\n",
    "        if start == -1 or end == 0:\n",
    "            print(\"❌ No JSON found in output\")\n",
    "            return False\n",
    "        \n",
    "        json_str = workflow_text[start:end]\n",
    "        parsed = json.loads(json_str)\n",
    "        \n",
    "        print(\"✅ Valid JSON!\")\n",
    "        print(f\"✓ Has 'nodes': {'nodes' in parsed}\")\n",
    "        print(f\"✓ Has 'connections': {'connections' in parsed}\")\n",
    "        if 'nodes' in parsed:\n",
    "            print(f\"✓ Number of nodes: {len(parsed['nodes'])}\")\n",
    "        return True\n",
    "    except json.JSONDecodeError as e:\n",
    "        print(f\"❌ Invalid JSON: {e}\")\n",
    "        return False\n",
    "\n",
    "# Test the last generated workflow\n",
    "print(\"Testing last generated workflow...\")\n",
    "validate_workflow_json(workflow)"
   ]
  }
 ],
 "metadata": {
  "language_info": {
   "name": "python"
  }
 },
 "nbformat": 4,
 "nbformat_minor": 5
}
